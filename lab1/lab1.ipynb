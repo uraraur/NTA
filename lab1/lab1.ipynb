{
 "cells": [
  {
   "cell_type": "code",
   "execution_count": 5,
   "metadata": {},
   "outputs": [],
   "source": [
    "import random\n",
    "import math\n",
    "\n",
    "\n",
    "prime = [2, 3, 5, 7, 11, 13, 17, 19, 23, 29, 31, 37, 41, 43, 47]"
   ]
  },
  {
   "cell_type": "code",
   "execution_count": 6,
   "metadata": {},
   "outputs": [],
   "source": [
    "def pseudo_prime(x, d, p, s):\n",
    "    if (x ** d) % p == 1 or (x ** d) % p == -1 % p:\n",
    "        return 1\n",
    "    x_r = x ** (2 * d) % p\n",
    "    for i in range(1, s):\n",
    "        if x_r == -1 % p:\n",
    "            return 1\n",
    "        if x_r == 1:\n",
    "            return 0\n",
    "        x_r = x_r**2 % p\n",
    "    return 0\n",
    "\n",
    "def miller_rabin_primality(p, k):\n",
    "    j = 1\n",
    "    while j < k:\n",
    "        if p % 2 == 0:\n",
    "            return \"P is composite\"\n",
    "        n = p - 1\n",
    "        s = 0\n",
    "        while n % 2 == 0:\n",
    "            n = n // 2\n",
    "            s = s + 1\n",
    "        x = random.randint(2, p - 1)\n",
    "        if math.gcd(x, p) > 1:\n",
    "            return \"P is composite\"\n",
    "        if pseudo_prime(x, n, p, s) == 0:\n",
    "            return \"P is composite\"\n",
    "        j = j + 1\n",
    "    return 1\n",
    "\n",
    "print(miller_rabin_primality(123456789, 3))\n"
   ]
  }
 ],
 "metadata": {
  "kernelspec": {
   "display_name": "Python 3",
   "language": "python",
   "name": "python3"
  },
  "language_info": {
   "codemirror_mode": {
    "name": "ipython",
    "version": 3
   },
   "file_extension": ".py",
   "mimetype": "text/x-python",
   "name": "python",
   "nbconvert_exporter": "python",
   "pygments_lexer": "ipython3",
   "version": "3.10.11"
  },
  "orig_nbformat": 4
 },
 "nbformat": 4,
 "nbformat_minor": 2
}
