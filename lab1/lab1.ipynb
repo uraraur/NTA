{
 "cells": [
  {
   "cell_type": "code",
   "execution_count": 316,
   "metadata": {},
   "outputs": [],
   "source": [
    "import random\n",
    "import math\n",
    "\n",
    "prime = [2, 3, 5, 7, 11, 13, 17, 19, 23, 29, 31, 37, 41, 43, 47]"
   ]
  },
  {
   "attachments": {},
   "cell_type": "markdown",
   "metadata": {},
   "source": [
    "Iмовiрнiсний тест Мiллера-Рабiна та допоміжна функція перевірки числа на псевдопростоту:"
   ]
  },
  {
   "cell_type": "code",
   "execution_count": 317,
   "metadata": {},
   "outputs": [],
   "source": [
    "def pseudo_prime(x, d, p, s):\n",
    "    if (x ** d) % p == 1 or (x ** d) % p == -1 % p:\n",
    "        return 1\n",
    "    x_r = x ** (2 * d) % p\n",
    "    for i in range(1, s):\n",
    "        if x_r == -1 % p:\n",
    "            return 1\n",
    "        if x_r == 1:\n",
    "            return 0\n",
    "        x_r = x_r**2 % p\n",
    "    return 0\n",
    "\n",
    "def miller_rabin_primality(p, k):\n",
    "    j = 1\n",
    "    while j < k:\n",
    "        if p % 2 == 0:\n",
    "            return \"P is composite\"\n",
    "        n = p - 1\n",
    "        s = 0\n",
    "        while n % 2 == 0:\n",
    "            n = n // 2\n",
    "            s = s + 1\n",
    "        x = random.randint(2, p - 1)\n",
    "        if math.gcd(x, p) > 1:\n",
    "            return \"P is composite\"\n",
    "        if pseudo_prime(x, n, p, s) == 0:\n",
    "            return \"P is composite\"\n",
    "        j = j + 1\n",
    "    return 1"
   ]
  },
  {
   "attachments": {},
   "cell_type": "markdown",
   "metadata": {},
   "source": [
    "Метод пробних ділень:"
   ]
  },
  {
   "cell_type": "code",
   "execution_count": 318,
   "metadata": {},
   "outputs": [],
   "source": [
    "def probni_dilenya(n): # n = a_t * 10^t + a_(t-1) * 10^(t-1) + ... + a_1 * 10 + a0 * 1\n",
    "    n_string = str(n)\n",
    "    b = []\n",
    "    for i in n_string[::-1]:\n",
    "        b.append(int(i))\n",
    "    \n",
    "    for m in prime:\n",
    "        r = [0] * len(b)\n",
    "        r[0] = 1\n",
    "        for i in range(len(b) - 1):\n",
    "            r[i + 1] = r[i] * 10 % m   \n",
    "        s = 0\n",
    "        for i in range(len(b)):\n",
    "            s += b[i] * r[i] \n",
    "        if s % m == 0:\n",
    "            return m \n",
    "        \n",
    "    return 1"
   ]
  },
  {
   "attachments": {},
   "cell_type": "markdown",
   "metadata": {},
   "source": [
    "\n",
    "$ \\rho $ - метод Полларда:"
   ]
  },
  {
   "cell_type": "code",
   "execution_count": 319,
   "metadata": {},
   "outputs": [],
   "source": [
    "def f(x, n):\n",
    "    return (x ** 2 + 1) % n\n",
    "\n",
    "def rho_pollard(n, x_0, f):\n",
    "    X_val = {}\n",
    "    X = [x_0]\n",
    "    Y = [x_0]\n",
    "    X_val[X[0]] = 1\n",
    "    i = 0\n",
    "    while X_val[X[i]] != 2:\n",
    "        X.append(f(X[i], n))\n",
    "        Y.append(f(f(Y[i], n), n))\n",
    "        print(f\"x_i: {X[i + 1]}, y_i: {Y[i + 1]}\")\n",
    "        if X[i + 1] not in X_val:\n",
    "            X_val[X[i + 1]] = 1\n",
    "        else:\n",
    "            X_val[X[i + 1]] = X_val[X[i + 1]] + 1\n",
    "        d = math.gcd(Y[i + 1] - X[i + 1], n)\n",
    "\n",
    "        if X[i + 1] == Y[i + 1]:\n",
    "            return 0\n",
    "        if d != 1:\n",
    "            return d\n",
    "        i = i + 1\n",
    "        \n",
    "    return 0"
   ]
  },
  {
   "attachments": {},
   "cell_type": "markdown",
   "metadata": {},
   "source": [
    "Метод Брілхарта-Моріссона(CFRAC) і допоміжна функція(символ Лежандра)"
   ]
  },
  {
   "cell_type": "code",
   "execution_count": 320,
   "metadata": {},
   "outputs": [
    {
     "name": "stdout",
     "output_type": "stream",
     "text": [
      "[133, 1, 2, 4, 2, 3, 1, 2, 1, 2, 3, 3]\n",
      "[1, 133, 134, 401, 1738, 3877, 13369, 17246, 12115, 11488, 17218, 9523, 10041]\n"
     ]
    }
   ],
   "source": [
    "def legendre(a, p):\n",
    "    i = 1\n",
    "    while True:\n",
    "        while a >= p:\n",
    "            a = a % p\n",
    "        if a == 1 or a == 0:\n",
    "            return a * i\n",
    "        if a % 2 == 0:\n",
    "            a = a // 2\n",
    "            if p % 8 == 3 or p % 8 == 5:\n",
    "                i = -i\n",
    "        if a % 4 == 3 and p % 4 == 3:\n",
    "            i = -i\n",
    "        if a == 1:\n",
    "            return a * i\n",
    "        a, p = p, a\n",
    "\n",
    "def cfrac(n):\n",
    "    k = 10\n",
    "    m = math.sqrt(n)\n",
    "\n",
    "    a = [int(m)]\n",
    "    u = [int(m)]\n",
    "\n",
    "    v = [1]\n",
    "    b = [1, a[0]]\n",
    "    for i in range(k+1): ####\n",
    "        v.append((n - u[i] ** 2) // v[i])\n",
    "        a.append(((int(m) + u[i]) // v[i + 1]) // 1)\n",
    "        u.append(a[i + 1] * v[i + 1] - u[i])\n",
    "        b.append((b[i + 1] * a[i + 1] + b[i]) % n )\n",
    "    return a, b\n",
    "\n",
    "a, b = cfrac(17873)\n",
    "print(a)\n",
    "print(b)\n"
   ]
  }
 ],
 "metadata": {
  "kernelspec": {
   "display_name": "Python 3",
   "language": "python",
   "name": "python3"
  },
  "language_info": {
   "codemirror_mode": {
    "name": "ipython",
    "version": 3
   },
   "file_extension": ".py",
   "mimetype": "text/x-python",
   "name": "python",
   "nbconvert_exporter": "python",
   "pygments_lexer": "ipython3",
   "version": "3.10.11"
  },
  "orig_nbformat": 4
 },
 "nbformat": 4,
 "nbformat_minor": 2
}
