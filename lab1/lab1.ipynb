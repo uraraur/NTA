{
 "cells": [
  {
   "cell_type": "code",
   "execution_count": 69,
   "metadata": {},
   "outputs": [],
   "source": [
    "import random\n",
    "import math\n",
    "\n",
    "prime = [2, 3, 5, 7, 11, 13, 17, 19, 23, 29, 31, 37, 41, 43, 47]"
   ]
  },
  {
   "attachments": {},
   "cell_type": "markdown",
   "metadata": {},
   "source": [
    "Iмовiрнiсний тест Мiллера-Рабiна та допоміжна функція перевірки числа на псевдопростоту:"
   ]
  },
  {
   "cell_type": "code",
   "execution_count": 70,
   "metadata": {},
   "outputs": [],
   "source": [
    "def pseudo_prime(x, d, p, s):\n",
    "    if (x ** d) % p == 1 or (x ** d) % p == -1 % p:\n",
    "        return 1\n",
    "    x_r = x ** (2 * d) % p\n",
    "    for i in range(1, s):\n",
    "        if x_r == -1 % p:\n",
    "            return 1\n",
    "        if x_r == 1:\n",
    "            return 0\n",
    "        x_r = x_r**2 % p\n",
    "    return 0\n",
    "\n",
    "def miller_rabin_primality(p, k):\n",
    "    j = 1\n",
    "    while j < k:\n",
    "        if p % 2 == 0:\n",
    "            return \"P is composite\"\n",
    "        n = p - 1\n",
    "        s = 0\n",
    "        while n % 2 == 0:\n",
    "            n = n // 2\n",
    "            s = s + 1\n",
    "        x = random.randint(2, p - 1)\n",
    "        if math.gcd(x, p) > 1:\n",
    "            return \"P is composite\"\n",
    "        if pseudo_prime(x, n, p, s) == 0:\n",
    "            return \"P is composite\"\n",
    "        j = j + 1\n",
    "    return 1"
   ]
  },
  {
   "attachments": {},
   "cell_type": "markdown",
   "metadata": {},
   "source": [
    "Метод пробних ділень:"
   ]
  },
  {
   "cell_type": "code",
   "execution_count": 71,
   "metadata": {},
   "outputs": [
    {
     "name": "stdout",
     "output_type": "stream",
     "text": [
      "47\n"
     ]
    }
   ],
   "source": [
    "def probni_dilenya(n): # n = a_t * 10^t + a_(t-1) * 10^(t-1) + ... + a_1 * 10 + a0 * 1\n",
    "    n_string = str(n)\n",
    "    b = []\n",
    "    for i in n_string[::-1]:\n",
    "        b.append(int(i))\n",
    "    \n",
    "    for m in prime:\n",
    "        r = [0] * len(b)\n",
    "        r[0] = 1\n",
    "        for i in range(len(b) - 1):\n",
    "            r[i + 1] = r[i] * 10 % m   \n",
    "        s = 0\n",
    "        for i in range(len(b)):\n",
    "            s += b[i] * r[i] \n",
    "        if s % m == 0:\n",
    "            return m \n",
    "        \n",
    "    return 0\n"
   ]
  }
 ],
 "metadata": {
  "kernelspec": {
   "display_name": "Python 3",
   "language": "python",
   "name": "python3"
  },
  "language_info": {
   "codemirror_mode": {
    "name": "ipython",
    "version": 3
   },
   "file_extension": ".py",
   "mimetype": "text/x-python",
   "name": "python",
   "nbconvert_exporter": "python",
   "pygments_lexer": "ipython3",
   "version": "3.10.11"
  },
  "orig_nbformat": 4
 },
 "nbformat": 4,
 "nbformat_minor": 2
}
